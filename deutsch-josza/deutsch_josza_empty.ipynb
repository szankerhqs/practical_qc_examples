{
 "cells": [
  {
   "cell_type": "markdown",
   "metadata": {},
   "source": [
    "# Deutsch-Josza Algorithm\n",
    "We have given a function `f: {0, 1}^n->{0, 1}` from input bitstrings with length `n`, e.g., `00110`, to a single bit output. The given function is either balanced (50% of inputs yield 0, 50% yield 1 as output) or the function is constant (alwasy 1 or always 0). THe task for our algorithm is to decide if the given function is constant or balanced. \n",
    "\n",
    "On a conventional computer we can query the function using the different input bitstrings. As soon as we have seen two different outputs we know that the function is balanced. However, if we have measured k-times the same value we only know that the function is constant with probability `P_k=1-1/2^(k-1)`. If we want to be 100% certain we need to query 50% of all `2^n` bitstrings, i.e., `2^(n-1)` queries.\n",
    "\n",
    "The Deutsch-Josza algorithm can perform the same task with exactly 1 query using `n+1` qubits.\n",
    "\n",
    "![Deutsch Josza](deutsch_josza.png)\n",
    "\n",
    "The large block in the cetner of the algorithm is an oracle."
   ]
  },
  {
   "cell_type": "markdown",
   "metadata": {},
   "source": [
    "## Oracles\n",
    "\n",
    "The oracle `U_f` takes two input registers `|x>` and `|y>` and returns $|x\\rangle|y\\oplus f(x)\\rangle$ where $y\\oplus f(x)$ is understood as addition modulo 2. For example, $0\\oplus1=1$ and $1\\oplus1=0$.\n",
    "\n",
    "In our example we will us a function defined on 2 (q)bits `f: {0,1}^2->{0,1}`. We can define a balanced oracle as\n",
    "\n",
    "![balanced oracle](oracle_balanced.png)\n",
    "\n",
    "A constant oracle as\n",
    "\n",
    "![constant oracle](oracle_constant_1.png)"
   ]
  },
  {
   "cell_type": "markdown",
   "metadata": {},
   "source": [
    "## Implementation"
   ]
  },
  {
   "cell_type": "markdown",
   "metadata": {},
   "source": [
    "*Hints before you start*:\n",
    "- pressing `Enter` in a cell will create a new line\n",
    "- pressing `shift-enter` will run the code in the cell\n",
    "- hovering over a method will show the methods documentation\n",
    "- alternatively writting `method?` and pressing `shift-enter` will print the same documentation\n"
   ]
  },
  {
   "cell_type": "markdown",
   "metadata": {},
   "source": [
    "### Initialization\n",
    "Required is the first step of the circuit: Flip the 3rd qubit from `0 ` to `1` and apply a Hadamard gate to all 3 qubits. We use the qoqo toolkit to represent quantum circuits.\n",
    "\n",
    "A `Circuit` is the main class to represent quantum circuits. The `qoqo.operations` module contains one- and two-qubit operations such as Hadamard, PauliX or CNOT. For the initialization circuit we require to different gates, the `PauliX` and the `Hadamard` operation.\n",
    "\n",
    "Write code that imports required tools from qoqo and write a circuit that applies the required operations.\n",
    "\n",
    "*Hints*: \n",
    "- Import `Circuit` and `operations` from qoqo\n",
    "- Define a circuit\n",
    "- Add the PauliX operation to flip the last qubit\n",
    "- Add `Hadamard` gates to all three qubits"
   ]
  },
  {
   "cell_type": "code",
   "execution_count": 2,
   "metadata": {},
   "outputs": [],
   "source": [
    "# Code goes here"
   ]
  },
  {
   "cell_type": "markdown",
   "metadata": {},
   "source": [
    "### Implement oracles\n",
    "For the second step of the circuit we require the oracles. Implement a circuit for the balanced oracle\n",
    "\n",
    "![Balanced](oracle_balanced.png)\n",
    "\n",
    "and a circuit for the constant oracle\n",
    "\n",
    "![Constant](oracle_constant_1.png)\n",
    "\n",
    "For the balanced oracle you require the `CNOT` operation which takes a `control` and a `target` qubit."
   ]
  },
  {
   "cell_type": "code",
   "execution_count": 1,
   "metadata": {},
   "outputs": [],
   "source": [
    "# Code goes here"
   ]
  },
  {
   "cell_type": "markdown",
   "metadata": {},
   "source": [
    "### Finalize the circuit\n",
    "Define a measurement circuit that \n",
    "1. applies a Hadamard gate to the first two qubits\n",
    "2. defines a bit register\n",
    "3. applies a `MeasureQubit` operation to the first two qubits\n",
    "\n",
    "For this step we require two additional qoqo operations: \n",
    "\n",
    "* `DefinitionBit` - Create a classical bit register to store measured bit values.\n",
    "* `MeasureQubit` -  Measure a qubit and store the input in the classical bit register."
   ]
  },
  {
   "cell_type": "markdown",
   "metadata": {},
   "source": [
    "## Simulation\n",
    "\n",
    "we test the algorithm on a (simulated) quantum computer. We use the `qoqo_quest` library to run the simulation. From the library you need the `Backend`.\n",
    "A circuit can be simulated on the backend using `Backend(n_qubits).run_circuit`. The method returns a tuple. The first entry of the tuple is a dictionary of BitRegisters. Access your registry via `res[0]['ro']` if you saved the result of `run_circuit` into `res`.\n",
    "\n",
    "Run the simulation for the balanced and the constant oracle.\n",
    "\n",
    "*Hints*:\n",
    "- import the Backend from qoqo_quest\n",
    "- use the `run_circuit` method in the Backend class\n",
    "  "
   ]
  },
  {
   "cell_type": "code",
   "execution_count": 3,
   "metadata": {},
   "outputs": [],
   "source": [
    "# code goes here"
   ]
  },
  {
   "cell_type": "markdown",
   "metadata": {},
   "source": [
    "### Interpreting the result\n",
    "The Deutsch-Josza algorithm uses destructive interference to suppress all amplitues but the $|00\\rangle$ state if the function is constant. This means that in the constant case you will alway measure `[False, False]` as a result of the circuit.\n",
    "\n",
    "For the balanced oracle the interference suppresses the amplitue of the $|00\\rangle$ state. This means that you can measure all bitstrings but `[False, False]`. \n",
    "\n",
    "This means that measuring `[False, False]` means that the function is constant while all other results mean that the function is balanced."
   ]
  },
  {
   "cell_type": "markdown",
   "metadata": {},
   "source": []
  }
 ],
 "metadata": {
  "kernelspec": {
   "display_name": "Python 3.9.2 ('hqs_base')",
   "language": "python",
   "name": "python3"
  },
  "language_info": {
   "codemirror_mode": {
    "name": "ipython",
    "version": 3
   },
   "file_extension": ".py",
   "mimetype": "text/x-python",
   "name": "python",
   "nbconvert_exporter": "python",
   "pygments_lexer": "ipython3",
   "version": "3.9.2"
  },
  "orig_nbformat": 4,
  "vscode": {
   "interpreter": {
    "hash": "373e0596dae8da3d1155205d352670196399af929a2b680a4f8f7b1db481518b"
   }
  }
 },
 "nbformat": 4,
 "nbformat_minor": 2
}
