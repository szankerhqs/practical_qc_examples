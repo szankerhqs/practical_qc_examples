{
 "cells": [
  {
   "cell_type": "markdown",
   "metadata": {},
   "source": [
    "# Deutsch-Josza Algorithm\n",
    "We have given a function `f: {0, 1}^n->{0, 1}` that is either balanced (50% 0, 50% 1 output) or constant (alwasy 1 or alway 2). Now, we need to decide if the given function is constant or balanced. \n",
    "\n",
    "On a conventional computer we can query the function using the different input bitstrings. As soon as we have seen two different outputs we know that the function is balanced. However, if we have measured k-times the same value we only know that the function is constant with probability `P_k=1-1/2^(k-1)`. If we want to be 100% certain we need to query 50% of all `2^n` bitstrings, i.e., `2^(n-1)` queries.\n",
    "\n",
    "The Deutsch-Josza algorithm can perform the same task with exactly 1 query using `n+1` qubits.\n",
    "\n",
    "![Deutsch Josza](deutsch_josza.png)"
   ]
  },
  {
   "cell_type": "markdown",
   "metadata": {},
   "source": [
    "## Oracles\n",
    "\n",
    "The oracle `U_f` takes two inputs `|x>` and `|y>` and returns `|x>|y+f(x)>` where `y+f(x)` is understood as addition modulo 2.\n",
    "\n",
    "In our example we will us a function defined on 2 (q)bits `f: {0,1}^2->{0,1}`. We can define a balanced oracle as\n",
    "\n",
    "![balanced oracle](oracle_balanced.png)\n",
    "\n",
    "A constant oracle as\n",
    "\n",
    "![constant oracle](oracle_constant_1.png)"
   ]
  },
  {
   "cell_type": "markdown",
   "metadata": {},
   "source": [
    "## Implementation"
   ]
  },
  {
   "cell_type": "code",
   "execution_count": 16,
   "metadata": {},
   "outputs": [],
   "source": [
    "from typing import List\n",
    "\n",
    "def check_constant(res: List[bool]) -> bool:\n",
    "    return all([not _ for _ in res])"
   ]
  },
  {
   "cell_type": "code",
   "execution_count": 10,
   "metadata": {},
   "outputs": [],
   "source": [
    "from qoqo import Circuit\n",
    "from qoqo import operations as ops\n",
    "import qoqo_quest\n",
    "\n",
    "def deutsch_josza(number_qubits: int, oracle: Circuit) -> Circuit:\n",
    "    circuit = Circuit()\n",
    "    circuit += ops.PauliX(number_qubits)\n",
    "    for q in range(number_qubits):\n",
    "        circuit += ops.Hadamard(q)\n",
    "    circuit += ops.Hadamard(number_qubits)\n",
    "    circuit += oracle\n",
    "    for q in range(number_qubits):\n",
    "        circuit += ops.Hadamard(q)\n",
    "    return circuit\n",
    "\n",
    "def balanced_oracle(number_qubits: int) -> Circuit:\n",
    "    oracle = Circuit()\n",
    "    for c in range(number_qubits):\n",
    "        oracle += ops.CNOT(control=c, target=number_qubits)\n",
    "    return oracle\n",
    "\n",
    "def constant_1_oracle(number_qubits: int) -> Circuit:\n",
    "    oracle = Circuit()\n",
    "    oracle += ops.PauliX(number_qubits)\n",
    "    return oracle"
   ]
  },
  {
   "cell_type": "markdown",
   "metadata": {},
   "source": [
    "## Simulation\n",
    "We verify the code by simulating it using qoqo_quest. We only perform one measurement as this is enough to answer the question if the function is constant or balanced."
   ]
  },
  {
   "cell_type": "code",
   "execution_count": 17,
   "metadata": {},
   "outputs": [
    {
     "name": "stdout",
     "output_type": "stream",
     "text": [
      "{'ro': [[True, True]]}\n",
      "False\n"
     ]
    }
   ],
   "source": [
    "number_qubits = 2\n",
    "balanced = Circuit()\n",
    "balanced += deutsch_josza(\n",
    "    number_qubits, oracle=balanced_oracle(number_qubits)\n",
    ")\n",
    "balanced += ops.DefinitionBit('ro', number_qubits, is_output=True)\n",
    "for q in range(number_qubits):\n",
    "    balanced += ops.MeasureQubit(q, 'ro', q)\n",
    "    \n",
    "(res, _, _) = qoqo_quest.Backend(number_qubits+1).run_circuit(balanced)\n",
    "print(res)\n",
    "print(\"is constant?\", check_constant(res['ro'][0]))"
   ]
  },
  {
   "cell_type": "code",
   "execution_count": 19,
   "metadata": {},
   "outputs": [
    {
     "name": "stdout",
     "output_type": "stream",
     "text": [
      "{'ro': [[False, False]]}\n",
      "is constant? True\n"
     ]
    }
   ],
   "source": [
    "number_qubits = 2\n",
    "constant = Circuit()\n",
    "constant += deutsch_josza(\n",
    "    number_qubits, oracle=constant_1_oracle(number_qubits)\n",
    ")\n",
    "constant += ops.DefinitionBit('ro', number_qubits, is_output=True)\n",
    "for q in range(number_qubits):\n",
    "    constant += ops.MeasureQubit(q, 'ro', q)\n",
    "\n",
    "(res, _, _) = qoqo_quest.Backend(number_qubits+1).run_circuit(constant)\n",
    "print(res)\n",
    "print(\"is constant?\", check_constant(res['ro'][0]))"
   ]
  },
  {
   "cell_type": "code",
   "execution_count": null,
   "metadata": {},
   "outputs": [],
   "source": []
  }
 ],
 "metadata": {
  "kernelspec": {
   "display_name": "Python 3.9.2 ('hqs_base')",
   "language": "python",
   "name": "python3"
  },
  "language_info": {
   "codemirror_mode": {
    "name": "ipython",
    "version": 3
   },
   "file_extension": ".py",
   "mimetype": "text/x-python",
   "name": "python",
   "nbconvert_exporter": "python",
   "pygments_lexer": "ipython3",
   "version": "3.9.2"
  },
  "orig_nbformat": 4,
  "vscode": {
   "interpreter": {
    "hash": "373e0596dae8da3d1155205d352670196399af929a2b680a4f8f7b1db481518b"
   }
  }
 },
 "nbformat": 4,
 "nbformat_minor": 2
}
