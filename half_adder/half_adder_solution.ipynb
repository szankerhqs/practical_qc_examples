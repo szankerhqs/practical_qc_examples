{
 "cells": [
  {
   "cell_type": "markdown",
   "metadata": {},
   "source": [
    "# Example: Half Adder\n",
    "In this example we write a quantum algorithm to aperform an add operation between two qubits and store the result in two qubits that act as output register.\n",
    "\n",
    "The truth table of the circuit is\n",
    "| in q1 | in q2 | out q4 | out q3 | out  (integer) |\n",
    "|-------|-------|--------|--------|----------------|\n",
    "| 0     | 0     | 0      | 0      | 0              |\n",
    "| 0     | 1     | 0      | 1      | 1              |\n",
    "| 1     | 0     | 0      | 1      | 1              |\n",
    "| 1     | 1     | 1      | 0      | 2              |\n",
    "\n",
    "The circuit that we will code to implements a half adder (with an additional unimportant phase) is as follows\n",
    "\n",
    "![half adder](half_adder.png)\n",
    "\n",
    "The output of q4 and q3 can be interpreted as the output integer as `2^1*q4+2^0*q3`.\n",
    "\n",
    "The to `X` operations at the beginning are used to generate input, in this case both input qubits are set to `1`."
   ]
  },
  {
   "cell_type": "code",
   "execution_count": 27,
   "metadata": {},
   "outputs": [],
   "source": [
    "# A small helper routine for nice output\n",
    "def get_binary(x: int, size: int) -> str:\n",
    "    \"\"\"Return a string representation of int x with size positions.\"\"\"\n",
    "    return format(x, 'b').zfill(size)"
   ]
  },
  {
   "cell_type": "markdown",
   "metadata": {},
   "source": [
    "## Input initialization"
   ]
  },
  {
   "cell_type": "markdown",
   "metadata": {},
   "source": [
    "Requried is the first step of the circuit: Flip the input qubits from `0 ` to `1`. We use the qoqo toolkit to represent quantum circuits.\n",
    "\n",
    "A `Circuit` is the main class to represent quantum circuits. The operations module contains one- and two-qubit operations such as Hadamard, PauliX or CNOT.\n",
    "\n",
    "The initialization circuit contains two gates, `PauliX` on the first two qubits."
   ]
  },
  {
   "cell_type": "markdown",
   "metadata": {},
   "source": [
    "Write code that imports required tools from qoqo and write a circuit that flips the two input qubits into `1`.\n",
    "Hint: Use the PauliX operation"
   ]
  },
  {
   "cell_type": "code",
   "execution_count": 28,
   "metadata": {},
   "outputs": [],
   "source": [
    "# Code here\n",
    "from qoqo import Circuit\n",
    "from qoqo import operations as ops\n",
    "\n",
    "init = Circuit()\n",
    "init += ops.PauliX(0)\n",
    "init += ops.PauliX(1)"
   ]
  },
  {
   "cell_type": "markdown",
   "metadata": {},
   "source": [
    "## Verify the input\n",
    "To verify that the qubits have been flipped we test it on a (simulated) quantum computer. We use the `qoqo_quest` library to interface to quest and run the simulation.\n",
    "\n",
    "We require two additional operations,\n",
    "\n",
    "* `DefinitionBit` - Create a classical bit register to store measured bit values.\n",
    "* `MeasureQubit` -  Measure a qubit and store the input in the classical bit register.\n",
    "\n",
    "A circuit can be simulated on the backend using `run_circuit`."
   ]
  },
  {
   "cell_type": "code",
   "execution_count": 29,
   "metadata": {},
   "outputs": [
    {
     "name": "stdout",
     "output_type": "stream",
     "text": [
      "{'ro': [[True, True]]}\n"
     ]
    }
   ],
   "source": [
    "# Code goes here\n",
    "from qoqo_quest import Backend\n",
    "measure = Circuit()\n",
    "measure += ops.DefinitionBit('ro', 2, is_output=True)\n",
    "measure += ops.MeasureQubit(0, 'ro', 0)\n",
    "measure += ops.MeasureQubit(1, 'ro', 1)\n",
    "(res_bits, _, _) = Backend(4).run_circuit(init + measure)\n",
    "print(res_bits)"
   ]
  },
  {
   "cell_type": "markdown",
   "metadata": {},
   "source": [
    "## Circuit to set first output qubit\n",
    "The next part of the circuit that we implement changes the first output qubit according to the inputs. The truth table for this is\n",
    "\n",
    "\n",
    "The truth table of this operation is\n",
    "\n",
    "| in q1 | in q2 |  out q3 |\n",
    "|-------|-------|---------|\n",
    "| 0     | 0     |  0      |\n",
    "| 0     | 1     |  1      |\n",
    "| 1     | 0     |  1      |\n",
    "| 1     | 1     |  0      |\n",
    "\n",
    "For this we require the `CNOT` operation. We need one CNOT with `control=0` and one with `control=1`. The target for both operations is qubit `2`.\n",
    "\n",
    "Hint: Don't forget to remove the measurement operations from the verification step!"
   ]
  },
  {
   "cell_type": "code",
   "execution_count": 30,
   "metadata": {},
   "outputs": [],
   "source": [
    "# Code goes here\n",
    "from qoqo import Circuit\n",
    "from qoqo import operations as ops\n",
    "\n",
    "circuit = Circuit()\n",
    "circuit += ops.CNOT(control=0, target=2)\n",
    "circuit += ops.CNOT(control=0, target=1)"
   ]
  },
  {
   "cell_type": "markdown",
   "metadata": {},
   "source": [
    "Verify the correct seting of qubit 2. It could be usefull to comment out one of the `PailiX` gates in the initialization to cahnge the measured value from 0 to 1."
   ]
  },
  {
   "cell_type": "code",
   "execution_count": 31,
   "metadata": {},
   "outputs": [
    {
     "name": "stdout",
     "output_type": "stream",
     "text": [
      "{'ro': [[True]]}\n"
     ]
    }
   ],
   "source": [
    "# Code goes here\n",
    "from qoqo_quest import Backend\n",
    "measure = Circuit()\n",
    "measure += ops.DefinitionBit('ro', 1, is_output=True)\n",
    "measure += ops.MeasureQubit(2, 'ro', 0)\n",
    "(res_bits, _, _) = Backend(4).run_circuit(init + circuit + measure)\n",
    "print(res_bits)"
   ]
  },
  {
   "cell_type": "markdown",
   "metadata": {},
   "source": [
    "## Set the second output qubit\n",
    "Finally, we need to set the second output representing the most relevant bit (2^1). The truth table of this operation is\n",
    "\n",
    "| in q1 | in q2 |  out q4 |\n",
    "|-------|-------|---------|\n",
    "| 0     | 0     |  0      |\n",
    "| 0     | 1     |  0      |\n",
    "| 1     | 0     |  0      |\n",
    "| 1     | 1     |  1      |\n",
    "\n",
    "We see that q4 is flipped only if both inputs are 1. This corresponds to a CCNOT or Toffoli gate. In the circuit diagram at the beginning the Tofolli gate has been decomposed into 1- and 2-qubit gates.\n",
    "\n",
    "For this step we require the `CNOT` operation, the `Hadamard` operation and a `Rotatey(\\pm\\pi/4)` operation. Implement the last step and validate the output.\n",
    "\n",
    "Hint: Don't forget to remove the measurement steps from verification."
   ]
  },
  {
   "cell_type": "code",
   "execution_count": 32,
   "metadata": {},
   "outputs": [
    {
     "name": "stdout",
     "output_type": "stream",
     "text": [
      "{'ro': [[False, True]]}\n"
     ]
    }
   ],
   "source": [
    "import math\n",
    "\n",
    "circuit += ops.CNOT(control=0, target=2)\n",
    "circuit += ops.CNOT(control=0, target=1)\n",
    "\n",
    "circuit += ops.RotateY(3, math.pi / 4)\n",
    "circuit += ops.CNOT(0, 3)\n",
    "circuit += ops.RotateY(3, -math.pi / 4)\n",
    "# Controlled Z\n",
    "circuit += ops.Hadamard(3)\n",
    "circuit += ops.CNOT(1, 3)\n",
    "circuit += ops.Hadamard(3)\n",
    "# Controlled H\n",
    "circuit += ops.RotateY(3, math.pi / 4)\n",
    "circuit += ops.CNOT(0, 3)\n",
    "circuit += ops.RotateY(3, -math.pi / 4)\n",
    "\n",
    "measure = Circuit()\n",
    "measure += ops.DefinitionBit('ro', 2, is_output=True)\n",
    "measure += ops.MeasureQubit(2, 'ro', 0)\n",
    "measure += ops.MeasureQubit(3, 'ro', 1)\n",
    "(res_bits, _, _) = Backend(4).run_circuit(init + circuit + measure)\n",
    "print(res_bits)"
   ]
  },
  {
   "cell_type": "markdown",
   "metadata": {},
   "source": [
    "## Further ideas:\n",
    "- replace the X gates in the initializaiton step by `Hadamard` gates\n",
    "- repeat the measurement for ~1000 times and plot a histogram of the outputs. Do you understand them?\n"
   ]
  },
  {
   "cell_type": "markdown",
   "metadata": {},
   "source": []
  }
 ],
 "metadata": {
  "kernelspec": {
   "display_name": "Python 3.9.2 ('hqs_base')",
   "language": "python",
   "name": "python3"
  },
  "language_info": {
   "codemirror_mode": {
    "name": "ipython",
    "version": 3
   },
   "file_extension": ".py",
   "mimetype": "text/x-python",
   "name": "python",
   "nbconvert_exporter": "python",
   "pygments_lexer": "ipython3",
   "version": "3.9.2"
  },
  "orig_nbformat": 4,
  "vscode": {
   "interpreter": {
    "hash": "373e0596dae8da3d1155205d352670196399af929a2b680a4f8f7b1db481518b"
   }
  }
 },
 "nbformat": 4,
 "nbformat_minor": 2
}
