{
 "cells": [
  {
   "cell_type": "markdown",
   "metadata": {},
   "source": [
    "# Quantum Teleportation with qoqo & the use of conditional measurements\n",
    "\n",
    "This notebook is designed to demonstrate the use of conditional measurements, by following through an example of quantum state teleportation.\n",
    "\n",
    "In quantum teleportation there are two end users: The first user, Alice, wishes to send a particular quantum state to the second user, Bob. The protocol requires a total of three qubits, and the transmission of two classical bits. \n",
    "\n",
    "The sender Alice controls qubits 0 and 1, and the reciever Bob controls qubit 2. \n",
    "\n",
    "![Quantum Teleportation](quantum_teleport.png)"
   ]
  },
  {
   "cell_type": "code",
   "execution_count": 16,
   "metadata": {},
   "outputs": [],
   "source": [
    "from qoqo_quest import Backend\n",
    "from qoqo import Circuit\n",
    "from qoqo import operations as ops \n",
    "from math import pi\n"
   ]
  },
  {
   "cell_type": "markdown",
   "metadata": {},
   "source": [
    "## State preparation\n",
    "\n",
    "The first step is to prepare the quantum state which Alice will send to Bob. As an example, the most general single qubit quantum state is given by:\n",
    "\\begin{equation}\n",
    "|\\psi \\rangle = cos(\\frac{\\theta}{2}) |0 \\rangle + e^{i \\phi} sin(\\frac{\\theta}{2}) |1 \\rangle.\n",
    "\\end{equation}\n",
    "This state can be prepared by a sequence of two single qubit rotations. In the code block below we first define a function that takes the angles $\\theta$ and $\\phi$ as input and prepares qubit 0 of a quantum register in the state $| \\psi \\rangle$.\n",
    "\n",
    "Next we use an instance of the function with the angles $\\theta=\\frac{\\pi}{2}$ and $\\phi=0$ to create a circuit which prepares the state: \n",
    "\\begin{equation}\n",
    "|\\psi \\rangle = \\frac{1}{\\sqrt{2}} \\big ( |0 \\rangle + |1 \\rangle \\big ) = | + \\rangle.\n",
    "\\end{equation}"
   ]
  },
  {
   "cell_type": "code",
   "execution_count": 17,
   "metadata": {},
   "outputs": [],
   "source": [
    "# Define a method that takes theta and phi and returns a circuit\n",
    "# to prepare state (1) in qubit 0.\n"
   ]
  },
  {
   "cell_type": "markdown",
   "metadata": {},
   "source": [
    "## Preparing an entangled resource state\n",
    "\n",
    "Quantum teleportation requires that the end users initially share an entangled resource state, \n",
    "\\begin{equation}\n",
    "|\\Phi_{+} \\rangle = \\frac{1}{\\sqrt(2)} \\big ( |00 \\rangle + |11 \\rangle \\big ) .\n",
    "\\end{equation}\n",
    "\n",
    "The following circuit prepares the state $|\\Phi_{+} \\rangle$ between qubit 1, held by Alice, and qubit 2, held by Bob."
   ]
  },
  {
   "cell_type": "code",
   "execution_count": 18,
   "metadata": {},
   "outputs": [],
   "source": [
    "# write a circuit that prepares the entangled state (1) on qubits 1 and 2."
   ]
  },
  {
   "cell_type": "markdown",
   "metadata": {},
   "source": [
    "## Encoding the state to be sent in the entangled resource state\n",
    "\n",
    "The next step of the procedure is to encode the state of qubit 0, $\\psi$, into the entangled resource state. This is accomplished by way of the circuit defined below, which is similar to that used to prepare the entangled resource. \n"
   ]
  },
  {
   "cell_type": "code",
   "execution_count": 19,
   "metadata": {},
   "outputs": [],
   "source": [
    "# write a circuit that encodes the state on the pair."
   ]
  },
  {
   "cell_type": "markdown",
   "metadata": {},
   "source": [
    "## State transfer part 1: Measurement\n",
    "\n",
    "At this stage in the process both of Alice's qubits, 0 and 1, are measured. The measurement consumes the entangled resource and leaves the state of qubit 2,Bob's qubit, in a state that depends on the two measurement outcomes. \n",
    "\n",
    "Let us call the classical bit which results from measuring qubit 0 'M1' and the bit resulting from measuring qubit 1 'M2'. The circuit below defines the classical register named 'M1M2', performs the measurement of qubits 0 and 1, and stores the results in the register 'M1M2'. "
   ]
  },
  {
   "cell_type": "code",
   "execution_count": 20,
   "metadata": {},
   "outputs": [],
   "source": [
    "# write a circuit that defines a classical bit register to\n",
    "# store the measurement results, measure the qubits 1 and 2 and stores\n",
    "# the results in the classical register"
   ]
  },
  {
   "cell_type": "markdown",
   "metadata": {},
   "source": [
    "## Defining the circuit for a conditional operation\n",
    "\n",
    "Conditional operations in qoqo have three inputs: the name of a classical register containing boolean values, the index of the register containing the value to be used to condition the operation, and the operation or sequence of operations to be performed if the boolean condition value is True. \n",
    "\n",
    "To prepare the third input, it is necessary to create circuit snippets corresponding to the operations to be completed if the condition is True. \n",
    "\n",
    "In the case of quantum teleportation, we need two conditional operations. The first is a Pauli Z acting on Bob's qubit, conditioned on the measurement result M1. The second is a Pauli X acting on Bob's qubit, conditioned on the measurement result M2. \n",
    "\n",
    "Hence we prepare circuit snippets correspponding to a Pauli Z and a Pauli X operation, i.e., the circuits that will be executed if the corresponding measurement result is `True`."
   ]
  },
  {
   "cell_type": "code",
   "execution_count": null,
   "metadata": {},
   "outputs": [],
   "source": [
    "\n"
   ]
  },
  {
   "cell_type": "markdown",
   "metadata": {},
   "source": [
    "## State transfer part 2: conditional operations\n",
    "\n",
    "The final stage of the teleportation protocol is to perform corrections to the state of Bob's qubit 2, according to the measurement outcomes 'M1' and 'M2'.\n",
    "\n",
    "The below circuit makes use of the circuit snippets defined above to perform the conditional corrections to the state of qubit 2. 2. \n",
    "\n",
    "\n",
    "*Hint*: The `PragmaConditional(condition_register: str, condition_index: int, circuit: Circuit)` will be very helpfull to execute circuits controlled by classical information."
   ]
  },
  {
   "cell_type": "code",
   "execution_count": 21,
   "metadata": {},
   "outputs": [],
   "source": [
    "# Code here"
   ]
  },
  {
   "cell_type": "markdown",
   "metadata": {},
   "source": [
    "## Putting it all together\n",
    "\n",
    "Combining each of the circuits we have defined yeilds the full teleportation protocol. We can verify that the protocol is successful by reading out the final state vector and comparing it to the state which was to be sent, $|\\psi \\rangle$. "
   ]
  },
  {
   "cell_type": "code",
   "execution_count": 22,
   "metadata": {},
   "outputs": [],
   "source": [
    "# COde here"
   ]
  },
  {
   "cell_type": "code",
   "execution_count": null,
   "metadata": {},
   "outputs": [],
   "source": []
  }
 ],
 "metadata": {
  "kernelspec": {
   "display_name": "Python 3.9.2 ('hqs_base')",
   "language": "python",
   "name": "python3"
  },
  "language_info": {
   "codemirror_mode": {
    "name": "ipython",
    "version": 3
   },
   "file_extension": ".py",
   "mimetype": "text/x-python",
   "name": "python",
   "nbconvert_exporter": "python",
   "pygments_lexer": "ipython3",
   "version": "3.9.2"
  },
  "vscode": {
   "interpreter": {
    "hash": "373e0596dae8da3d1155205d352670196399af929a2b680a4f8f7b1db481518b"
   }
  }
 },
 "nbformat": 4,
 "nbformat_minor": 2
}
